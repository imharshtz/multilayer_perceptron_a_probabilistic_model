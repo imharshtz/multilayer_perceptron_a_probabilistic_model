{
 "cells": [
  {
   "cell_type": "code",
   "execution_count": 3,
   "id": "d8e89b2e-8213-4d87-8bab-a83ea8a0d313",
   "metadata": {},
   "outputs": [],
   "source": [
    "import torch\n",
    "import torch.nn.functional as F\n",
    "import matplotlib.pyplot as plt\n",
    "%matplotlib inline"
   ]
  },
  {
   "cell_type": "code",
   "execution_count": 86,
   "id": "26505aa3-609b-43a0-a519-8f5c7a31cbb3",
   "metadata": {},
   "outputs": [],
   "source": [
    "# read in all the words\n",
    "with open('names.txt', 'r') as file:\n",
    "    content = file.read()\n",
    "\n",
    "content_lower = content.lower()\n",
    "\n",
    "with open('names.txt', 'w') as file:\n",
    "    file.write(content_lower)\n",
    "    file.close()"
   ]
  },
  {
   "cell_type": "code",
   "execution_count": 87,
   "id": "238b4ddc-0c95-4ba9-9806-446e8bb38d89",
   "metadata": {},
   "outputs": [
    {
     "data": {
      "text/plain": [
       "['aaban',\n",
       " 'aabharan',\n",
       " 'aabhas',\n",
       " 'aabhat',\n",
       " 'aabheer',\n",
       " 'abheer',\n",
       " 'aabher',\n",
       " 'aabi']"
      ]
     },
     "execution_count": 87,
     "metadata": {},
     "output_type": "execute_result"
    }
   ],
   "source": [
    "# read in all the words\n",
    "words = open('names.txt', 'r').read().splitlines()\n",
    "words[:8]"
   ]
  },
  {
   "cell_type": "code",
   "execution_count": 88,
   "id": "df45b214-1a66-4872-b049-b5d9a642b6a3",
   "metadata": {},
   "outputs": [
    {
     "data": {
      "text/plain": [
       "53982"
      ]
     },
     "execution_count": 88,
     "metadata": {},
     "output_type": "execute_result"
    }
   ],
   "source": [
    "len(words)"
   ]
  },
  {
   "cell_type": "code",
   "execution_count": 89,
   "id": "a2beedbc-8e27-4de0-abbd-97d0de46dbba",
   "metadata": {},
   "outputs": [
    {
     "name": "stdout",
     "output_type": "stream",
     "text": [
      "{1: 'a', 2: 'b', 3: 'c', 4: 'd', 5: 'e', 6: 'f', 7: 'g', 8: 'h', 9: 'i', 10: 'j', 11: 'k', 12: 'l', 13: 'm', 14: 'n', 15: 'o', 16: 'p', 17: 'q', 18: 'r', 19: 's', 20: 't', 21: 'u', 22: 'v', 23: 'w', 24: 'x', 25: 'y', 26: 'z', 0: '.'}\n"
     ]
    },
    {
     "data": {
      "text/plain": [
       "27"
      ]
     },
     "execution_count": 89,
     "metadata": {},
     "output_type": "execute_result"
    }
   ],
   "source": [
    "# build the vocabulary of characters and mappings to/from integers\n",
    "chars = sorted(list(set(''.join(words)))) #get sorted list of letters from a to z\n",
    "stoi = {s:i+1 for i,s in enumerate(chars)}\n",
    "stoi['.'] = 0\n",
    "itos = {i:s for s,i in stoi.items()}\n",
    "print(itos)\n",
    "len(itos)"
   ]
  },
  {
   "cell_type": "code",
   "execution_count": 90,
   "id": "42afc5fb-9c27-4300-ac1e-1face757ecdf",
   "metadata": {},
   "outputs": [
    {
     "name": "stdout",
     "output_type": "stream",
     "text": [
      "torch.Size([488074, 3]) torch.Size([488074])\n"
     ]
    }
   ],
   "source": [
    "# build the dataset\n",
    "block_size = 3 # context length: how many characters do we take to predict the next one?\n",
    "\n",
    "def build_dataset(words):  \n",
    "  X, Y = [], []\n",
    "  for w in words:\n",
    "\n",
    "    #print(w)\n",
    "    context = [0] * block_size\n",
    "    for ch in w + '.':\n",
    "      ix = stoi[ch]\n",
    "      X.append(context)\n",
    "      Y.append(ix)\n",
    "      #print(''.join(itos[i] for i in context), '--->', itos[ix])\n",
    "      context = context[1:] + [ix] # crop and append\n",
    "\n",
    "  X = torch.tensor(X)\n",
    "  Y = torch.tensor(Y)\n",
    "  print(X.shape, Y.shape)\n",
    "  return X, Y\n",
    "X, Y = build_dataset(words)"
   ]
  },
  {
   "cell_type": "code",
   "execution_count": 91,
   "id": "deb6095d-85ff-411f-9001-b49d4d380039",
   "metadata": {},
   "outputs": [
    {
     "name": "stdout",
     "output_type": "stream",
     "text": [
      "torch.Size([390591, 3]) torch.Size([390591])\n",
      "torch.Size([48694, 3]) torch.Size([48694])\n",
      "torch.Size([48789, 3]) torch.Size([48789])\n"
     ]
    }
   ],
   "source": [
    "#now building training, testing and validation datasets\n",
    "import random\n",
    "random.seed(42)\n",
    "random.shuffle(words)\n",
    "n1 = int(0.8*len(words))\n",
    "n2 = int(0.9*len(words))\n",
    "\n",
    "Xtr, Ytr = build_dataset(words[:n1])\n",
    "Xdev, Ydev = build_dataset(words[n1:n2])\n",
    "Xte, Yte = build_dataset(words[n2:])"
   ]
  },
  {
   "cell_type": "code",
   "execution_count": 92,
   "id": "849c300a-68af-4c82-b749-3d56713f3df8",
   "metadata": {},
   "outputs": [],
   "source": [
    "C = torch.randn((27, 2))"
   ]
  },
  {
   "cell_type": "code",
   "execution_count": 93,
   "id": "568f596a-2666-4a13-ad2e-41c0cf665171",
   "metadata": {},
   "outputs": [
    {
     "data": {
      "text/plain": [
       "torch.Size([488074, 3, 2])"
      ]
     },
     "execution_count": 93,
     "metadata": {},
     "output_type": "execute_result"
    }
   ],
   "source": [
    "emb = C[X]\n",
    "emb.shape"
   ]
  },
  {
   "cell_type": "code",
   "execution_count": 94,
   "id": "704c49ac-f3a8-4816-bb52-b9d6d7de3f10",
   "metadata": {},
   "outputs": [],
   "source": [
    "W1 = torch.randn((6, 100))\n",
    "b1 = torch.randn(100)"
   ]
  },
  {
   "cell_type": "code",
   "execution_count": 95,
   "id": "911c7e7e-b34a-4da4-b2c8-3b0a2d7c74e5",
   "metadata": {},
   "outputs": [],
   "source": [
    "h = torch.tanh(emb.view(-1, 6) @ W1 + b1)"
   ]
  },
  {
   "cell_type": "code",
   "execution_count": 96,
   "id": "40d06017-58c3-4270-9b89-eb3b5f01d8c3",
   "metadata": {},
   "outputs": [
    {
     "data": {
      "text/plain": [
       "tensor([[-0.1057, -0.0737, -0.3409,  ..., -0.8047,  0.0429, -0.4071],\n",
       "        [ 0.9694,  0.8355, -0.6682,  ...,  0.0972, -0.8793, -0.8468],\n",
       "        [ 0.2732, -0.9958, -0.9424,  ..., -0.9672, -0.6095,  0.4632],\n",
       "        ...,\n",
       "        [ 0.9960,  0.9887,  0.4736,  ...,  0.9991, -0.9787, -0.9984],\n",
       "        [-0.9583, -0.9991, -0.6222,  ..., -0.9967,  0.2632,  0.5954],\n",
       "        [ 0.9987, -0.8833, -0.9990,  ...,  0.8902, -0.8808, -0.6524]])"
      ]
     },
     "execution_count": 96,
     "metadata": {},
     "output_type": "execute_result"
    }
   ],
   "source": [
    "h"
   ]
  },
  {
   "cell_type": "code",
   "execution_count": 97,
   "id": "38f4fe96-9324-40ab-8b32-902d36038b74",
   "metadata": {},
   "outputs": [
    {
     "data": {
      "text/plain": [
       "torch.Size([488074, 100])"
      ]
     },
     "execution_count": 97,
     "metadata": {},
     "output_type": "execute_result"
    }
   ],
   "source": [
    "h.shape"
   ]
  },
  {
   "cell_type": "code",
   "execution_count": 98,
   "id": "45e081a4-06bb-4d1e-8761-6bf1b2ab4e1e",
   "metadata": {},
   "outputs": [],
   "source": [
    "W2 = torch.randn((100, 27))\n",
    "b2 = torch.randn(27)"
   ]
  },
  {
   "cell_type": "code",
   "execution_count": 99,
   "id": "4fbbf98e-9e35-4bd7-870a-1195cb282555",
   "metadata": {},
   "outputs": [],
   "source": [
    "logits = h @ W2 + b2"
   ]
  },
  {
   "cell_type": "code",
   "execution_count": 100,
   "id": "27ba2eb6-c55b-4b11-9d0b-251e32d907c9",
   "metadata": {},
   "outputs": [
    {
     "data": {
      "text/plain": [
       "torch.Size([488074, 27])"
      ]
     },
     "execution_count": 100,
     "metadata": {},
     "output_type": "execute_result"
    }
   ],
   "source": [
    "logits.shape"
   ]
  },
  {
   "cell_type": "code",
   "execution_count": 101,
   "id": "45afd133-aad2-479c-925d-61c9c7b00455",
   "metadata": {},
   "outputs": [],
   "source": [
    "counts = logits.exp()"
   ]
  },
  {
   "cell_type": "code",
   "execution_count": 102,
   "id": "ee51633c-9250-4f10-bfcf-3eb21af044c0",
   "metadata": {},
   "outputs": [],
   "source": [
    "prob = counts / counts.sum(1, keepdims=True)"
   ]
  },
  {
   "cell_type": "code",
   "execution_count": 103,
   "id": "00eeb80c-2480-4250-bf7e-7d2f848b566d",
   "metadata": {},
   "outputs": [
    {
     "data": {
      "text/plain": [
       "torch.Size([488074, 27])"
      ]
     },
     "execution_count": 103,
     "metadata": {},
     "output_type": "execute_result"
    }
   ],
   "source": [
    "prob.shape"
   ]
  },
  {
   "cell_type": "code",
   "execution_count": 105,
   "id": "a21f3295-de82-4c61-ad94-abc5e698ca8f",
   "metadata": {},
   "outputs": [
    {
     "data": {
      "text/plain": [
       "tensor(16.7684)"
      ]
     },
     "execution_count": 105,
     "metadata": {},
     "output_type": "execute_result"
    }
   ],
   "source": [
    "loss = -prob[torch.arange(488074), Y].log().mean()\n",
    "loss"
   ]
  },
  {
   "cell_type": "code",
   "execution_count": 106,
   "id": "243fee72-505f-445a-9309-ef64c421328b",
   "metadata": {},
   "outputs": [
    {
     "data": {
      "text/plain": [
       "(torch.Size([390591, 3]), torch.Size([390591]))"
      ]
     },
     "execution_count": 106,
     "metadata": {},
     "output_type": "execute_result"
    }
   ],
   "source": [
    "Xtr.shape, Ytr.shape # dataset"
   ]
  },
  {
   "cell_type": "code",
   "execution_count": 107,
   "id": "e6cbc513-adf6-428c-970c-c9efcb3ec8db",
   "metadata": {},
   "outputs": [],
   "source": [
    "g = torch.Generator().manual_seed(2147483647) # for reproducibility\n",
    "C = torch.randn((27, 10), generator=g)\n",
    "W1 = torch.randn((30, 200), generator=g)\n",
    "b1 = torch.randn(200, generator=g)\n",
    "W2 = torch.randn((200, 27), generator=g)\n",
    "b2 = torch.randn(27, generator=g)\n",
    "parameters = [C, W1, b1, W2, b2]"
   ]
  },
  {
   "cell_type": "code",
   "execution_count": 108,
   "id": "c4849187-d8be-4755-b4d3-ccdcace4a1e5",
   "metadata": {},
   "outputs": [
    {
     "data": {
      "text/plain": [
       "11897"
      ]
     },
     "execution_count": 108,
     "metadata": {},
     "output_type": "execute_result"
    }
   ],
   "source": [
    "sum(p.nelement() for p in parameters) # number of parameters in total"
   ]
  },
  {
   "cell_type": "code",
   "execution_count": 109,
   "id": "45209670-4c6c-4c13-9aa8-5e5228c299f6",
   "metadata": {},
   "outputs": [],
   "source": [
    "for p in parameters:\n",
    "  p.requires_grad = True"
   ]
  },
  {
   "cell_type": "code",
   "execution_count": 110,
   "id": "53e31783-1674-486c-bd39-ccdd9c1fca3b",
   "metadata": {},
   "outputs": [],
   "source": [
    "lre = torch.linspace(-3, 0, 1000)\n",
    "lrs = 10**lre"
   ]
  },
  {
   "cell_type": "code",
   "execution_count": 111,
   "id": "32db5264-e5ad-4fe3-98c9-9d48e18e1a1d",
   "metadata": {},
   "outputs": [],
   "source": [
    "lri = []\n",
    "lossi = []\n",
    "stepi = []"
   ]
  },
  {
   "cell_type": "code",
   "execution_count": 121,
   "id": "39d1f5d6-96ab-4246-9176-e7763978ab6b",
   "metadata": {},
   "outputs": [
    {
     "name": "stdout",
     "output_type": "stream",
     "text": [
      "1.471660852432251\n"
     ]
    }
   ],
   "source": [
    "for i in range(10000):\n",
    "  \n",
    "  # minibatch construct\n",
    "  ix = torch.randint(0, Xtr.shape[0], (32,))\n",
    "  \n",
    "  # forward pass\n",
    "  emb = C[Xtr[ix]] # (32, 3, 10)\n",
    "  h = torch.tanh(emb.view(-1, 30) @ W1 + b1) # (32, 200)\n",
    "  logits = h @ W2 + b2 # (32, 27)\n",
    "  loss = F.cross_entropy(logits, Ytr[ix])\n",
    "  #print(loss.item())\n",
    "  \n",
    "  # backward pass\n",
    "  for p in parameters:\n",
    "    p.grad = None\n",
    "  loss.backward()\n",
    "  \n",
    "  # update\n",
    "  #lr = lrs[i]\n",
    "  lr = 0.1 if i < 100000 else 0.01\n",
    "  for p in parameters:\n",
    "    p.data += -lr * p.grad\n",
    "\n",
    "  # track stats\n",
    "  #lri.append(lre[i])\n",
    "  stepi.append(i)\n",
    "  lossi.append(loss.log10().item())\n",
    "\n",
    "print(loss.item())"
   ]
  },
  {
   "cell_type": "code",
   "execution_count": 122,
   "id": "9cedf44b-a0ce-4c93-ad90-7ac909bf58dd",
   "metadata": {},
   "outputs": [
    {
     "name": "stdout",
     "output_type": "stream",
     "text": [
      "brikalmyan.\n",
      "shen.\n",
      "nihayalareshwarekgolek.\n",
      "pishka.\n",
      "thi.\n",
      "pula.\n",
      "pen.\n",
      "dishayananarakalakshmaalin.\n",
      "shubargahimiya.\n",
      "vini.\n",
      "pallilanthucksuthan.\n",
      "dhruyallamehayamajayakshan.\n",
      "hil.\n",
      "sakya.\n",
      "suhayakhlvan.\n",
      "rithra.\n",
      "puvikosh.\n",
      "poodiryankoyohan.\n",
      "priyashwathya.\n",
      "hirayalini.\n",
      "priya.\n",
      "prashala.\n",
      "ditarash.\n",
      "priyohan.\n",
      "bhitya.\n",
      "dhaya.\n",
      "vishmeelakethra.\n",
      "praasha.\n",
      "dumalarkicoothivalla.\n",
      "ilbanahivarlen.\n",
      "jashrayanikar.\n",
      "pravaii.\n",
      "shivoniya.\n",
      "jyonyakshini.\n",
      "yishan.\n",
      "moosh.\n",
      "priyonimeerthicallukeyushana.\n",
      "coomilokkesh.\n",
      "chu.\n",
      "chanikshiniyhta.\n",
      "moshayamalahadchan.\n",
      "omayooshthan.\n",
      "kshiyam.\n",
      "koonkarunchelosh.\n",
      "saini.\n",
      "pin.\n",
      "cinehanushayakashmaya.\n",
      "divyaakhavathayuthanashyuduzh.\n",
      "puniyalayuny.\n",
      "than.\n"
     ]
    }
   ],
   "source": [
    "\n",
    "\n",
    "# sample from the model\n",
    "g = torch.Generator().manual_seed(2147483647 + 10)\n",
    "\n",
    "for _ in range(50):\n",
    "    \n",
    "    out = []\n",
    "    context = [0] * block_size # initialize with all ...\n",
    "    while True:\n",
    "      emb = C[torch.tensor([context])] # (1,block_size,d)\n",
    "      h = torch.tanh(emb.view(1, -1) @ W1 + b1)\n",
    "      logits = h @ W2 + b2\n",
    "      probs = F.softmax(logits, dim=1)\n",
    "      ix = torch.multinomial(probs, num_samples=1, generator=g).item()\n",
    "      context = context[1:] + [ix]\n",
    "      out.append(ix)\n",
    "      if ix == 0:\n",
    "        break\n",
    "    \n",
    "    print(''.join(itos[i] for i in out))"
   ]
  },
  {
   "cell_type": "code",
   "execution_count": null,
   "id": "e60cf126-51bc-4b4d-b8e4-3ebeab09e9e6",
   "metadata": {},
   "outputs": [],
   "source": []
  }
 ],
 "metadata": {
  "kernelspec": {
   "display_name": "Python 3 (ipykernel)",
   "language": "python",
   "name": "python3"
  },
  "language_info": {
   "codemirror_mode": {
    "name": "ipython",
    "version": 3
   },
   "file_extension": ".py",
   "mimetype": "text/x-python",
   "name": "python",
   "nbconvert_exporter": "python",
   "pygments_lexer": "ipython3",
   "version": "3.11.5"
  }
 },
 "nbformat": 4,
 "nbformat_minor": 5
}
